{
 "cells": [
  {
   "cell_type": "code",
   "execution_count": 326,
   "id": "495c2fa7",
   "metadata": {},
   "outputs": [],
   "source": [
    "import pandas as pd\n",
    "import numpy as np\n",
    "import matplotlib.pyplot as plt"
   ]
  },
  {
   "cell_type": "code",
   "execution_count": 327,
   "id": "060bbf38",
   "metadata": {},
   "outputs": [],
   "source": [
    "def category_differences(train, test, col):\n",
    "    train_minus_test = set(train.HomePlanet.unique()) - set(test.HomePlanet.unique())\n",
    "    test_minus_train = set(test.HomePlanet.unique()) - set(train.HomePlanet.unique())\n",
    "    print(\"categories that are in train but not in test for the column {} : {}\".format(col, train_minus_test))\n",
    "    print(\"categories that are in test but not in train for the column {} : {}\".format(col, test_minus_train))"
   ]
  },
  {
   "cell_type": "code",
   "execution_count": 328,
   "id": "6fad16c8",
   "metadata": {},
   "outputs": [],
   "source": [
    "def seperate_types(df):\n",
    "        num_con_cols = []\n",
    "        num_disc_cols = []\n",
    "        cat_cols = []\n",
    "\n",
    "        for label, value in df.items():\n",
    "            if pd.api.types.is_string_dtype(value):\n",
    "                cat_cols.append(label)\n",
    "            else:\n",
    "                if df[label].nunique() > 100:\n",
    "                    num_con_cols.append(label)\n",
    "                else:\n",
    "                    num_disc_cols.append(label)\n",
    "        return num_con_cols, num_disc_cols, cat_cols"
   ]
  },
  {
   "cell_type": "code",
   "execution_count": 329,
   "id": "99326353",
   "metadata": {},
   "outputs": [],
   "source": [
    "def plot_categories(df, var, target):\n",
    "    \n",
    "    fig, ax = plt.subplots(figsize=(8, 4))\n",
    "    plt.xticks(df.index, df[var], rotation=90)\n",
    "\n",
    "    ax2 = ax.twinx()\n",
    "    ax.bar(df.index, df[\"perc_category\"], color='lightgrey')\n",
    "    ax2.plot(df.index, df[target], color='green', label='Seconds')\n",
    "    ax.axhline(y=0.05, color='red')\n",
    "    ax.set_ylabel('percentage of data per category')\n",
    "    ax.set_xlabel(var)\n",
    "    ax2.set_ylabel('Average Target per category')\n",
    "    plt.show()"
   ]
  },
  {
   "cell_type": "code",
   "execution_count": 330,
   "id": "103ca437",
   "metadata": {},
   "outputs": [],
   "source": [
    "def calculate_mean_target_per_category(df, var, target):\n",
    "\n",
    "    # total number of houses\n",
    "    len_df = len(df)\n",
    "\n",
    "    # percentage of houses per category\n",
    "    temp_df = pd.Series(df[var].value_counts() / len_df).reset_index()\n",
    "    temp_df.columns = [var, 'perc_category']\n",
    "\n",
    "    # add the mean SalePrice\n",
    "    temp_df = temp_df.merge(df.groupby([var])[target].mean().reset_index(),\n",
    "                            on=var,\n",
    "                            how='left')\n",
    "\n",
    "    return temp_df"
   ]
  },
  {
   "cell_type": "code",
   "execution_count": 331,
   "id": "89e0ab40",
   "metadata": {
    "scrolled": true
   },
   "outputs": [],
   "source": [
    "def unique_count(df, cols):\n",
    "    for col in cols:\n",
    "        print(f\"{col} has {df[col].nunique()} unique categories\")"
   ]
  },
  {
   "cell_type": "code",
   "execution_count": 332,
   "id": "14c05210",
   "metadata": {
    "scrolled": true
   },
   "outputs": [],
   "source": [
    "train = pd.read_csv(\"train.csv\")\n",
    "test = pd.read_csv(\"test.csv\")"
   ]
  },
  {
   "cell_type": "code",
   "execution_count": 333,
   "id": "942ce656",
   "metadata": {},
   "outputs": [],
   "source": [
    "sample_submission = pd.read_csv(\"sample_submission.csv\")"
   ]
  },
  {
   "cell_type": "code",
   "execution_count": 334,
   "id": "29c6f84c",
   "metadata": {},
   "outputs": [
    {
     "data": {
      "text/html": [
       "<div>\n",
       "<style scoped>\n",
       "    .dataframe tbody tr th:only-of-type {\n",
       "        vertical-align: middle;\n",
       "    }\n",
       "\n",
       "    .dataframe tbody tr th {\n",
       "        vertical-align: top;\n",
       "    }\n",
       "\n",
       "    .dataframe thead th {\n",
       "        text-align: right;\n",
       "    }\n",
       "</style>\n",
       "<table border=\"1\" class=\"dataframe\">\n",
       "  <thead>\n",
       "    <tr style=\"text-align: right;\">\n",
       "      <th></th>\n",
       "      <th>PassengerId</th>\n",
       "      <th>Transported</th>\n",
       "    </tr>\n",
       "  </thead>\n",
       "  <tbody>\n",
       "    <tr>\n",
       "      <th>0</th>\n",
       "      <td>0013_01</td>\n",
       "      <td>False</td>\n",
       "    </tr>\n",
       "    <tr>\n",
       "      <th>1</th>\n",
       "      <td>0018_01</td>\n",
       "      <td>False</td>\n",
       "    </tr>\n",
       "    <tr>\n",
       "      <th>2</th>\n",
       "      <td>0019_01</td>\n",
       "      <td>False</td>\n",
       "    </tr>\n",
       "    <tr>\n",
       "      <th>3</th>\n",
       "      <td>0021_01</td>\n",
       "      <td>False</td>\n",
       "    </tr>\n",
       "    <tr>\n",
       "      <th>4</th>\n",
       "      <td>0023_01</td>\n",
       "      <td>False</td>\n",
       "    </tr>\n",
       "    <tr>\n",
       "      <th>...</th>\n",
       "      <td>...</td>\n",
       "      <td>...</td>\n",
       "    </tr>\n",
       "    <tr>\n",
       "      <th>4272</th>\n",
       "      <td>9266_02</td>\n",
       "      <td>False</td>\n",
       "    </tr>\n",
       "    <tr>\n",
       "      <th>4273</th>\n",
       "      <td>9269_01</td>\n",
       "      <td>False</td>\n",
       "    </tr>\n",
       "    <tr>\n",
       "      <th>4274</th>\n",
       "      <td>9271_01</td>\n",
       "      <td>False</td>\n",
       "    </tr>\n",
       "    <tr>\n",
       "      <th>4275</th>\n",
       "      <td>9273_01</td>\n",
       "      <td>False</td>\n",
       "    </tr>\n",
       "    <tr>\n",
       "      <th>4276</th>\n",
       "      <td>9277_01</td>\n",
       "      <td>False</td>\n",
       "    </tr>\n",
       "  </tbody>\n",
       "</table>\n",
       "<p>4277 rows × 2 columns</p>\n",
       "</div>"
      ],
      "text/plain": [
       "     PassengerId  Transported\n",
       "0        0013_01        False\n",
       "1        0018_01        False\n",
       "2        0019_01        False\n",
       "3        0021_01        False\n",
       "4        0023_01        False\n",
       "...          ...          ...\n",
       "4272     9266_02        False\n",
       "4273     9269_01        False\n",
       "4274     9271_01        False\n",
       "4275     9273_01        False\n",
       "4276     9277_01        False\n",
       "\n",
       "[4277 rows x 2 columns]"
      ]
     },
     "execution_count": 334,
     "metadata": {},
     "output_type": "execute_result"
    }
   ],
   "source": [
    "sample_submission"
   ]
  },
  {
   "cell_type": "code",
   "execution_count": 335,
   "id": "7f2360ba",
   "metadata": {},
   "outputs": [],
   "source": [
    "#PassengerId and Name have no predictive power\n",
    "train.drop([\"PassengerId\", \"Name\"], axis=1, inplace=True)\n",
    "#but for the test set we need to store them in a variable before dropping.\n",
    "test_passid = test.PassengerId\n",
    "test.drop([\"PassengerId\", \"Name\"], axis=1, inplace=True)"
   ]
  },
  {
   "cell_type": "code",
   "execution_count": 336,
   "id": "e76ba864",
   "metadata": {},
   "outputs": [
    {
     "data": {
      "text/plain": [
       "(12, 11)"
      ]
     },
     "execution_count": 336,
     "metadata": {},
     "output_type": "execute_result"
    }
   ],
   "source": [
    "#column length of train must be one more than test \n",
    "len(train.columns), len(test.columns)"
   ]
  },
  {
   "cell_type": "code",
   "execution_count": 337,
   "id": "ca28fc6b",
   "metadata": {},
   "outputs": [],
   "source": [
    "num_con_cols, num_disc_cols, cat_cols = seperate_types(train)"
   ]
  },
  {
   "cell_type": "code",
   "execution_count": 338,
   "id": "c4234b5f",
   "metadata": {
    "scrolled": true
   },
   "outputs": [
    {
     "data": {
      "text/plain": [
       "(['RoomService', 'FoodCourt', 'ShoppingMall', 'Spa', 'VRDeck'],\n",
       " ['Age', 'Transported'],\n",
       " ['HomePlanet', 'CryoSleep', 'Cabin', 'Destination', 'VIP'])"
      ]
     },
     "execution_count": 338,
     "metadata": {},
     "output_type": "execute_result"
    }
   ],
   "source": [
    "num_con_cols, num_disc_cols, cat_cols"
   ]
  },
  {
   "cell_type": "code",
   "execution_count": 339,
   "id": "791ebb99",
   "metadata": {},
   "outputs": [
    {
     "data": {
      "text/plain": [
       "0          B/0/P\n",
       "1          F/0/S\n",
       "2          A/0/S\n",
       "3          A/0/S\n",
       "4          F/1/S\n",
       "          ...   \n",
       "8688      A/98/P\n",
       "8689    G/1499/S\n",
       "8690    G/1500/S\n",
       "8691     E/608/S\n",
       "8692     E/608/S\n",
       "Name: Cabin, Length: 8693, dtype: object"
      ]
     },
     "execution_count": 339,
     "metadata": {},
     "output_type": "execute_result"
    }
   ],
   "source": [
    "train.Cabin"
   ]
  },
  {
   "cell_type": "code",
   "execution_count": 340,
   "id": "aa489ba2",
   "metadata": {
    "scrolled": false
   },
   "outputs": [
    {
     "name": "stdout",
     "output_type": "stream",
     "text": [
      "HomePlanet has 3 unique categories\n",
      "CryoSleep has 2 unique categories\n",
      "Cabin has 6560 unique categories\n",
      "Destination has 3 unique categories\n",
      "VIP has 2 unique categories\n"
     ]
    }
   ],
   "source": [
    "#there are too many categories in cabin feature, we need to reduce it.\n",
    "unique_count(train, cat_cols)"
   ]
  },
  {
   "cell_type": "markdown",
   "id": "c335798a",
   "metadata": {},
   "source": [
    "Cabin - The cabin number where the passenger is staying. Takes the form deck/num/side, where side can be either P for Port or S for Starboard."
   ]
  },
  {
   "cell_type": "code",
   "execution_count": 341,
   "id": "9dd3d2d0",
   "metadata": {
    "scrolled": false
   },
   "outputs": [
    {
     "data": {
      "text/plain": [
       "0          B/0/P\n",
       "1          F/0/S\n",
       "2          A/0/S\n",
       "3          A/0/S\n",
       "4          F/1/S\n",
       "          ...   \n",
       "8688      A/98/P\n",
       "8689    G/1499/S\n",
       "8690    G/1500/S\n",
       "8691     E/608/S\n",
       "8692     E/608/S\n",
       "Name: Cabin, Length: 8693, dtype: object"
      ]
     },
     "execution_count": 341,
     "metadata": {},
     "output_type": "execute_result"
    }
   ],
   "source": [
    "#we will get only the deck and side information from the cabin feature\n",
    "train.Cabin"
   ]
  },
  {
   "cell_type": "code",
   "execution_count": 342,
   "id": "eda0ed93",
   "metadata": {},
   "outputs": [],
   "source": [
    "train[\"Deck\"] = train.Cabin.apply(lambda x: str(x)[0])\n",
    "train[\"Side\"] = train.Cabin.apply(lambda x: str(x)[-1])\n",
    "test[\"Deck\"] = test.Cabin.apply(lambda x: str(x)[0])\n",
    "test[\"Side\"] = test.Cabin.apply(lambda x: str(x)[-1])\n",
    "\n",
    "train.drop(\"Cabin\", axis=1, inplace=True)\n",
    "test.drop(\"Cabin\", axis=1, inplace=True)\n",
    "\n",
    "cat_cols.remove(\"Cabin\")\n",
    "cat_cols.append(\"Deck\")\n",
    "cat_cols.append(\"Side\")"
   ]
  },
  {
   "cell_type": "code",
   "execution_count": 343,
   "id": "3e7734db",
   "metadata": {},
   "outputs": [
    {
     "data": {
      "text/html": [
       "<div>\n",
       "<style scoped>\n",
       "    .dataframe tbody tr th:only-of-type {\n",
       "        vertical-align: middle;\n",
       "    }\n",
       "\n",
       "    .dataframe tbody tr th {\n",
       "        vertical-align: top;\n",
       "    }\n",
       "\n",
       "    .dataframe thead th {\n",
       "        text-align: right;\n",
       "    }\n",
       "</style>\n",
       "<table border=\"1\" class=\"dataframe\">\n",
       "  <thead>\n",
       "    <tr style=\"text-align: right;\">\n",
       "      <th></th>\n",
       "      <th>HomePlanet</th>\n",
       "      <th>CryoSleep</th>\n",
       "      <th>Destination</th>\n",
       "      <th>Age</th>\n",
       "      <th>VIP</th>\n",
       "      <th>RoomService</th>\n",
       "      <th>FoodCourt</th>\n",
       "      <th>ShoppingMall</th>\n",
       "      <th>Spa</th>\n",
       "      <th>VRDeck</th>\n",
       "      <th>Transported</th>\n",
       "      <th>Deck</th>\n",
       "      <th>Side</th>\n",
       "    </tr>\n",
       "  </thead>\n",
       "  <tbody>\n",
       "    <tr>\n",
       "      <th>0</th>\n",
       "      <td>Europa</td>\n",
       "      <td>False</td>\n",
       "      <td>TRAPPIST-1e</td>\n",
       "      <td>39.0</td>\n",
       "      <td>False</td>\n",
       "      <td>0.0</td>\n",
       "      <td>0.0</td>\n",
       "      <td>0.0</td>\n",
       "      <td>0.0</td>\n",
       "      <td>0.0</td>\n",
       "      <td>False</td>\n",
       "      <td>B</td>\n",
       "      <td>P</td>\n",
       "    </tr>\n",
       "    <tr>\n",
       "      <th>1</th>\n",
       "      <td>Earth</td>\n",
       "      <td>False</td>\n",
       "      <td>TRAPPIST-1e</td>\n",
       "      <td>24.0</td>\n",
       "      <td>False</td>\n",
       "      <td>109.0</td>\n",
       "      <td>9.0</td>\n",
       "      <td>25.0</td>\n",
       "      <td>549.0</td>\n",
       "      <td>44.0</td>\n",
       "      <td>True</td>\n",
       "      <td>F</td>\n",
       "      <td>S</td>\n",
       "    </tr>\n",
       "    <tr>\n",
       "      <th>2</th>\n",
       "      <td>Europa</td>\n",
       "      <td>False</td>\n",
       "      <td>TRAPPIST-1e</td>\n",
       "      <td>58.0</td>\n",
       "      <td>True</td>\n",
       "      <td>43.0</td>\n",
       "      <td>3576.0</td>\n",
       "      <td>0.0</td>\n",
       "      <td>6715.0</td>\n",
       "      <td>49.0</td>\n",
       "      <td>False</td>\n",
       "      <td>A</td>\n",
       "      <td>S</td>\n",
       "    </tr>\n",
       "    <tr>\n",
       "      <th>3</th>\n",
       "      <td>Europa</td>\n",
       "      <td>False</td>\n",
       "      <td>TRAPPIST-1e</td>\n",
       "      <td>33.0</td>\n",
       "      <td>False</td>\n",
       "      <td>0.0</td>\n",
       "      <td>1283.0</td>\n",
       "      <td>371.0</td>\n",
       "      <td>3329.0</td>\n",
       "      <td>193.0</td>\n",
       "      <td>False</td>\n",
       "      <td>A</td>\n",
       "      <td>S</td>\n",
       "    </tr>\n",
       "    <tr>\n",
       "      <th>4</th>\n",
       "      <td>Earth</td>\n",
       "      <td>False</td>\n",
       "      <td>TRAPPIST-1e</td>\n",
       "      <td>16.0</td>\n",
       "      <td>False</td>\n",
       "      <td>303.0</td>\n",
       "      <td>70.0</td>\n",
       "      <td>151.0</td>\n",
       "      <td>565.0</td>\n",
       "      <td>2.0</td>\n",
       "      <td>True</td>\n",
       "      <td>F</td>\n",
       "      <td>S</td>\n",
       "    </tr>\n",
       "    <tr>\n",
       "      <th>...</th>\n",
       "      <td>...</td>\n",
       "      <td>...</td>\n",
       "      <td>...</td>\n",
       "      <td>...</td>\n",
       "      <td>...</td>\n",
       "      <td>...</td>\n",
       "      <td>...</td>\n",
       "      <td>...</td>\n",
       "      <td>...</td>\n",
       "      <td>...</td>\n",
       "      <td>...</td>\n",
       "      <td>...</td>\n",
       "      <td>...</td>\n",
       "    </tr>\n",
       "    <tr>\n",
       "      <th>8688</th>\n",
       "      <td>Europa</td>\n",
       "      <td>False</td>\n",
       "      <td>55 Cancri e</td>\n",
       "      <td>41.0</td>\n",
       "      <td>True</td>\n",
       "      <td>0.0</td>\n",
       "      <td>6819.0</td>\n",
       "      <td>0.0</td>\n",
       "      <td>1643.0</td>\n",
       "      <td>74.0</td>\n",
       "      <td>False</td>\n",
       "      <td>A</td>\n",
       "      <td>P</td>\n",
       "    </tr>\n",
       "    <tr>\n",
       "      <th>8689</th>\n",
       "      <td>Earth</td>\n",
       "      <td>True</td>\n",
       "      <td>PSO J318.5-22</td>\n",
       "      <td>18.0</td>\n",
       "      <td>False</td>\n",
       "      <td>0.0</td>\n",
       "      <td>0.0</td>\n",
       "      <td>0.0</td>\n",
       "      <td>0.0</td>\n",
       "      <td>0.0</td>\n",
       "      <td>False</td>\n",
       "      <td>G</td>\n",
       "      <td>S</td>\n",
       "    </tr>\n",
       "    <tr>\n",
       "      <th>8690</th>\n",
       "      <td>Earth</td>\n",
       "      <td>False</td>\n",
       "      <td>TRAPPIST-1e</td>\n",
       "      <td>26.0</td>\n",
       "      <td>False</td>\n",
       "      <td>0.0</td>\n",
       "      <td>0.0</td>\n",
       "      <td>1872.0</td>\n",
       "      <td>1.0</td>\n",
       "      <td>0.0</td>\n",
       "      <td>True</td>\n",
       "      <td>G</td>\n",
       "      <td>S</td>\n",
       "    </tr>\n",
       "    <tr>\n",
       "      <th>8691</th>\n",
       "      <td>Europa</td>\n",
       "      <td>False</td>\n",
       "      <td>55 Cancri e</td>\n",
       "      <td>32.0</td>\n",
       "      <td>False</td>\n",
       "      <td>0.0</td>\n",
       "      <td>1049.0</td>\n",
       "      <td>0.0</td>\n",
       "      <td>353.0</td>\n",
       "      <td>3235.0</td>\n",
       "      <td>False</td>\n",
       "      <td>E</td>\n",
       "      <td>S</td>\n",
       "    </tr>\n",
       "    <tr>\n",
       "      <th>8692</th>\n",
       "      <td>Europa</td>\n",
       "      <td>False</td>\n",
       "      <td>TRAPPIST-1e</td>\n",
       "      <td>44.0</td>\n",
       "      <td>False</td>\n",
       "      <td>126.0</td>\n",
       "      <td>4688.0</td>\n",
       "      <td>0.0</td>\n",
       "      <td>0.0</td>\n",
       "      <td>12.0</td>\n",
       "      <td>True</td>\n",
       "      <td>E</td>\n",
       "      <td>S</td>\n",
       "    </tr>\n",
       "  </tbody>\n",
       "</table>\n",
       "<p>8693 rows × 13 columns</p>\n",
       "</div>"
      ],
      "text/plain": [
       "     HomePlanet CryoSleep    Destination   Age    VIP  RoomService  FoodCourt  \\\n",
       "0        Europa     False    TRAPPIST-1e  39.0  False          0.0        0.0   \n",
       "1         Earth     False    TRAPPIST-1e  24.0  False        109.0        9.0   \n",
       "2        Europa     False    TRAPPIST-1e  58.0   True         43.0     3576.0   \n",
       "3        Europa     False    TRAPPIST-1e  33.0  False          0.0     1283.0   \n",
       "4         Earth     False    TRAPPIST-1e  16.0  False        303.0       70.0   \n",
       "...         ...       ...            ...   ...    ...          ...        ...   \n",
       "8688     Europa     False    55 Cancri e  41.0   True          0.0     6819.0   \n",
       "8689      Earth      True  PSO J318.5-22  18.0  False          0.0        0.0   \n",
       "8690      Earth     False    TRAPPIST-1e  26.0  False          0.0        0.0   \n",
       "8691     Europa     False    55 Cancri e  32.0  False          0.0     1049.0   \n",
       "8692     Europa     False    TRAPPIST-1e  44.0  False        126.0     4688.0   \n",
       "\n",
       "      ShoppingMall     Spa  VRDeck  Transported Deck Side  \n",
       "0              0.0     0.0     0.0        False    B    P  \n",
       "1             25.0   549.0    44.0         True    F    S  \n",
       "2              0.0  6715.0    49.0        False    A    S  \n",
       "3            371.0  3329.0   193.0        False    A    S  \n",
       "4            151.0   565.0     2.0         True    F    S  \n",
       "...            ...     ...     ...          ...  ...  ...  \n",
       "8688           0.0  1643.0    74.0        False    A    P  \n",
       "8689           0.0     0.0     0.0        False    G    S  \n",
       "8690        1872.0     1.0     0.0         True    G    S  \n",
       "8691           0.0   353.0  3235.0        False    E    S  \n",
       "8692           0.0     0.0    12.0         True    E    S  \n",
       "\n",
       "[8693 rows x 13 columns]"
      ]
     },
     "execution_count": 343,
     "metadata": {},
     "output_type": "execute_result"
    }
   ],
   "source": [
    "train"
   ]
  },
  {
   "cell_type": "code",
   "execution_count": 344,
   "id": "2669f8d6",
   "metadata": {
    "scrolled": true
   },
   "outputs": [
    {
     "data": {
      "image/png": "[encoded data removed]",
      "text/plain": [
       "<Figure size 576x288 with 2 Axes>"
      ]
     },
     "metadata": {
      "needs_background": "light"
     },
     "output_type": "display_data"
    },
    {
     "data": {
      "image/png": "[encoded data removed]",
      "text/plain": [
       "<Figure size 576x288 with 2 Axes>"
      ]
     },
     "metadata": {
      "needs_background": "light"
     },
     "output_type": "display_data"
    },
    {
     "data": {
      "image/png": "[encoded data removed]",
      "text/plain": [
       "<Figure size 576x288 with 2 Axes>"
      ]
     },
     "metadata": {
      "needs_background": "light"
     },
     "output_type": "display_data"
    },
    {
     "data": {
      "image/png": "[encoded data removed]",
      "text/plain": [
       "<Figure size 576x288 with 2 Axes>"
      ]
     },
     "metadata": {
      "needs_background": "light"
     },
     "output_type": "display_data"
    },
    {
     "data": {
      "image/png": "[encoded data removed]",
      "text/plain": [
       "<Figure size 576x288 with 2 Axes>"
      ]
     },
     "metadata": {
      "needs_background": "light"
     },
     "output_type": "display_data"
    },
    {
     "data": {
      "image/png": "[encoded data removed]",
      "text/plain": [
       "<Figure size 576x288 with 2 Axes>"
      ]
     },
     "metadata": {
      "needs_background": "light"
     },
     "output_type": "display_data"
    }
   ],
   "source": [
    "#let's visualize percentage of categories in each feature and their mean target\n",
    "target = \"Transported\"\n",
    "for col in cat_cols:\n",
    "    temp = calculate_mean_target_per_category(train, col, target)\n",
    "    plot_categories(temp, col, target)"
   ]
  },
  {
   "cell_type": "code",
   "execution_count": 345,
   "id": "c1ea8a4e",
   "metadata": {
    "scrolled": true
   },
   "outputs": [
    {
     "data": {
      "text/plain": [
       "0.02289198205452663"
      ]
     },
     "execution_count": 345,
     "metadata": {},
     "output_type": "execute_result"
    }
   ],
   "source": [
    "#in the VIP feature percentage of values with True is 2.2%\n",
    "train.loc[train.VIP==True, \"VIP\"].sum() / len(train)"
   ]
  },
  {
   "cell_type": "code",
   "execution_count": 346,
   "id": "a68ac6a5",
   "metadata": {},
   "outputs": [
    {
     "data": {
      "text/plain": [
       "0.0007014262333411269"
      ]
     },
     "execution_count": 346,
     "metadata": {},
     "output_type": "execute_result"
    }
   ],
   "source": [
    "#in the test there are almost no values with True\n",
    "test.loc[train.VIP==True, \"VIP\"].sum() / len(test)"
   ]
  },
  {
   "cell_type": "markdown",
   "id": "2440a855",
   "metadata": {},
   "source": [
    "From the plot we can see that VIP Feature has not many values with True\n",
    "and we can drop the column altogether."
   ]
  },
  {
   "cell_type": "code",
   "execution_count": 347,
   "id": "bcadb68e",
   "metadata": {},
   "outputs": [],
   "source": [
    "train.drop(\"VIP\", axis=1, inplace=True)\n",
    "test.drop(\"VIP\", axis=1, inplace=True)\n",
    "cat_cols.remove(\"VIP\")"
   ]
  },
  {
   "cell_type": "code",
   "execution_count": 348,
   "id": "6a38d402",
   "metadata": {
    "scrolled": true
   },
   "outputs": [],
   "source": [
    "#age is numerical discrete variable, we could group them as young,middle-aged,and old.\n",
    "#And add it to cat_cols\n",
    "temp = pd.cut(train.Age, bins=3, labels=False)\n",
    "temp_2 = pd.cut(test.Age, bins=3, labels=False)"
   ]
  },
  {
   "cell_type": "code",
   "execution_count": 349,
   "id": "660804f6",
   "metadata": {},
   "outputs": [
    {
     "data": {
      "text/plain": [
       "0       1.0\n",
       "1       0.0\n",
       "2       2.0\n",
       "3       1.0\n",
       "4       0.0\n",
       "       ... \n",
       "8688    1.0\n",
       "8689    0.0\n",
       "8690    0.0\n",
       "8691    1.0\n",
       "8692    1.0\n",
       "Name: Age, Length: 8693, dtype: float64"
      ]
     },
     "execution_count": 349,
     "metadata": {},
     "output_type": "execute_result"
    }
   ],
   "source": [
    "#0's are young, 1's are middle-aged, 2's are old passengers\n",
    "temp"
   ]
  },
  {
   "cell_type": "code",
   "execution_count": 350,
   "id": "b9048c3a",
   "metadata": {},
   "outputs": [
    {
     "data": {
      "text/plain": [
       "0    middle-aged\n",
       "1          young\n",
       "2            old\n",
       "3    middle-aged\n",
       "4          young\n",
       "Name: Age, dtype: object"
      ]
     },
     "execution_count": 350,
     "metadata": {},
     "output_type": "execute_result"
    }
   ],
   "source": [
    "age_dict = {0:\"young\", 1:\"middle-aged\", 2:\"old\"}\n",
    "temp = temp.map(age_dict)\n",
    "temp_2 = temp_2.map(age_dict)\n",
    "temp.head()"
   ]
  },
  {
   "cell_type": "code",
   "execution_count": 351,
   "id": "c4e2f10b",
   "metadata": {},
   "outputs": [
    {
     "data": {
      "text/plain": [
       "0    middle-aged\n",
       "1          young\n",
       "2    middle-aged\n",
       "3    middle-aged\n",
       "4          young\n",
       "Name: Age, dtype: object"
      ]
     },
     "execution_count": 351,
     "metadata": {},
     "output_type": "execute_result"
    }
   ],
   "source": [
    "temp_2.head()"
   ]
  },
  {
   "cell_type": "code",
   "execution_count": 352,
   "id": "ae367272",
   "metadata": {},
   "outputs": [],
   "source": [
    "train.Age = temp.copy()\n",
    "test.Age = temp_2.copy()\n",
    "del temp, temp_2"
   ]
  },
  {
   "cell_type": "code",
   "execution_count": 353,
   "id": "d3e1b117",
   "metadata": {},
   "outputs": [
    {
     "data": {
      "text/plain": [
       "['HomePlanet', 'CryoSleep', 'Destination', 'Deck', 'Side', 'Age']"
      ]
     },
     "execution_count": 353,
     "metadata": {},
     "output_type": "execute_result"
    }
   ],
   "source": [
    "cat_cols.append(\"Age\")\n",
    "cat_cols"
   ]
  },
  {
   "cell_type": "code",
   "execution_count": 354,
   "id": "c3e19f0f",
   "metadata": {},
   "outputs": [
    {
     "data": {
      "image/png": "[encoded data removed]",
      "text/plain": [
       "<Figure size 576x288 with 2 Axes>"
      ]
     },
     "metadata": {
      "needs_background": "light"
     },
     "output_type": "display_data"
    }
   ],
   "source": [
    "#let's visualize the behaviour of categories of age column\n",
    "temp = calculate_mean_target_per_category(train, \"Age\", \"Transported\")\n",
    "plot_categories(temp, \"Age\", \"Transported\")"
   ]
  },
  {
   "cell_type": "markdown",
   "id": "a59ecdfc",
   "metadata": {},
   "source": [
    "### missing data imputation for categorical features"
   ]
  },
  {
   "cell_type": "code",
   "execution_count": 355,
   "id": "b2c73b08",
   "metadata": {},
   "outputs": [],
   "source": [
    "### Let's check if test dataset has any different values in categorical_columns compared to train dataset"
   ]
  },
  {
   "cell_type": "code",
   "execution_count": 356,
   "id": "1bb62942",
   "metadata": {
    "scrolled": false
   },
   "outputs": [
    {
     "name": "stdout",
     "output_type": "stream",
     "text": [
      "categories that are in train but not in test for the column HomePlanet : set()\n",
      "categories that are in test but not in train for the column HomePlanet : set()\n",
      "*--------*\n",
      "categories that are in train but not in test for the column CryoSleep : set()\n",
      "categories that are in test but not in train for the column CryoSleep : set()\n",
      "*--------*\n",
      "categories that are in train but not in test for the column Destination : set()\n",
      "categories that are in test but not in train for the column Destination : set()\n",
      "*--------*\n",
      "categories that are in train but not in test for the column Deck : set()\n",
      "categories that are in test but not in train for the column Deck : set()\n",
      "*--------*\n",
      "categories that are in train but not in test for the column Side : set()\n",
      "categories that are in test but not in train for the column Side : set()\n",
      "*--------*\n",
      "categories that are in train but not in test for the column Age : set()\n",
      "categories that are in test but not in train for the column Age : set()\n",
      "*--------*\n"
     ]
    }
   ],
   "source": [
    "#there aren't any different categories\n",
    "for col in cat_cols:\n",
    "    category_differences(train, test, col)\n",
    "    print(\"*--------*\")"
   ]
  },
  {
   "cell_type": "markdown",
   "id": "f497b225",
   "metadata": {},
   "source": [
    "# QUOTE from https://www.kaggle.com/code/ssarkar445/flying-machine-kfold-ensemble-starter-80-accuracy/notebook\n",
    "**When CryoSleep is True all below services are not used so replace all the nans for below column with 0 if CryoSleep is True (RoomService,FoodCourt,ShoppingMall,Spa,VRDeck)**"
   ]
  },
  {
   "cell_type": "code",
   "execution_count": 357,
   "id": "cc3bce67",
   "metadata": {},
   "outputs": [
    {
     "data": {
      "text/plain": [
       "RoomService     181\n",
       "FoodCourt       183\n",
       "ShoppingMall    208\n",
       "Spa             183\n",
       "VRDeck          188\n",
       "dtype: int64"
      ]
     },
     "execution_count": 357,
     "metadata": {},
     "output_type": "execute_result"
    }
   ],
   "source": [
    "train[num_con_cols].isna().sum()"
   ]
  },
  {
   "cell_type": "code",
   "execution_count": 358,
   "id": "c0986747",
   "metadata": {
    "scrolled": true
   },
   "outputs": [],
   "source": [
    "cryo_true = train.loc[train.CryoSleep==True, num_con_cols].fillna(0)"
   ]
  },
  {
   "cell_type": "code",
   "execution_count": 359,
   "id": "2fc7b0b0",
   "metadata": {},
   "outputs": [],
   "source": [
    "#indexes where Cryo sleep is True\n",
    "cryo_true_indexes = cryo_true.index"
   ]
  },
  {
   "cell_type": "code",
   "execution_count": 360,
   "id": "488a4152",
   "metadata": {},
   "outputs": [],
   "source": [
    "train.loc[cryo_true_indexes, num_con_cols] = cryo_true"
   ]
  },
  {
   "cell_type": "code",
   "execution_count": 361,
   "id": "a639f572",
   "metadata": {
    "scrolled": true
   },
   "outputs": [
    {
     "data": {
      "text/plain": [
       "RoomService     113\n",
       "FoodCourt       113\n",
       "ShoppingMall    112\n",
       "Spa             118\n",
       "VRDeck          126\n",
       "dtype: int64"
      ]
     },
     "execution_count": 361,
     "metadata": {},
     "output_type": "execute_result"
    }
   ],
   "source": [
    "train[num_con_cols].isna().sum()"
   ]
  },
  {
   "cell_type": "code",
   "execution_count": 362,
   "id": "2f414a8b",
   "metadata": {},
   "outputs": [
    {
     "data": {
      "text/plain": [
       "RoomService      82\n",
       "FoodCourt       106\n",
       "ShoppingMall     98\n",
       "Spa             101\n",
       "VRDeck           80\n",
       "dtype: int64"
      ]
     },
     "execution_count": 362,
     "metadata": {},
     "output_type": "execute_result"
    }
   ],
   "source": [
    "test[num_con_cols].isna().sum()"
   ]
  },
  {
   "cell_type": "code",
   "execution_count": 363,
   "id": "5cd497b5",
   "metadata": {},
   "outputs": [],
   "source": [
    "cryo_true = test.loc[test.CryoSleep==True, num_con_cols].fillna(0)\n",
    "cryo_true_indexes = cryo_true.index\n",
    "test.loc[cryo_true_indexes, num_con_cols] = cryo_true"
   ]
  },
  {
   "cell_type": "code",
   "execution_count": 364,
   "id": "43e143e7",
   "metadata": {},
   "outputs": [
    {
     "data": {
      "text/plain": [
       "RoomService     57\n",
       "FoodCourt       67\n",
       "ShoppingMall    63\n",
       "Spa             59\n",
       "VRDeck          51\n",
       "dtype: int64"
      ]
     },
     "execution_count": 364,
     "metadata": {},
     "output_type": "execute_result"
    }
   ],
   "source": [
    "test[num_con_cols].isna().sum()"
   ]
  },
  {
   "cell_type": "code",
   "execution_count": 365,
   "id": "22b9da21",
   "metadata": {
    "scrolled": true
   },
   "outputs": [
    {
     "data": {
      "text/plain": [
       "['HomePlanet', 'CryoSleep', 'Destination', 'Deck', 'Side', 'Age']"
      ]
     },
     "execution_count": 365,
     "metadata": {},
     "output_type": "execute_result"
    }
   ],
   "source": [
    "cat_cols"
   ]
  },
  {
   "cell_type": "code",
   "execution_count": 366,
   "id": "47a5033b",
   "metadata": {},
   "outputs": [],
   "source": [
    "#We are going to fill with the value 'missing'"
   ]
  },
  {
   "cell_type": "code",
   "execution_count": 367,
   "id": "6b323096",
   "metadata": {},
   "outputs": [],
   "source": [
    "for col in cat_cols:\n",
    "    train[col].fillna(\"missing\", inplace=True)\n",
    "    test[col].fillna(\"missing\", inplace=True)"
   ]
  },
  {
   "cell_type": "code",
   "execution_count": 368,
   "id": "e83c4586",
   "metadata": {},
   "outputs": [
    {
     "data": {
      "text/plain": [
       "HomePlanet     0\n",
       "CryoSleep      0\n",
       "Destination    0\n",
       "Deck           0\n",
       "Side           0\n",
       "Age            0\n",
       "dtype: int64"
      ]
     },
     "execution_count": 368,
     "metadata": {},
     "output_type": "execute_result"
    }
   ],
   "source": [
    "train[cat_cols].isna().sum()"
   ]
  },
  {
   "cell_type": "code",
   "execution_count": 369,
   "id": "9a110c56",
   "metadata": {},
   "outputs": [
    {
     "data": {
      "text/plain": [
       "HomePlanet     0\n",
       "CryoSleep      0\n",
       "Destination    0\n",
       "Deck           0\n",
       "Side           0\n",
       "Age            0\n",
       "dtype: int64"
      ]
     },
     "execution_count": 369,
     "metadata": {},
     "output_type": "execute_result"
    }
   ],
   "source": [
    "test[cat_cols].isna().sum()"
   ]
  },
  {
   "cell_type": "markdown",
   "id": "638abaf5",
   "metadata": {},
   "source": [
    "### missing data imputation for numerical continuous features"
   ]
  },
  {
   "cell_type": "code",
   "execution_count": 370,
   "id": "7820e2a6",
   "metadata": {},
   "outputs": [],
   "source": [
    "for col in num_con_cols:\n",
    "    train[col].fillna(train[col].median(), inplace=True)\n",
    "    test[col].fillna(test[col].median(), inplace=True)"
   ]
  },
  {
   "cell_type": "code",
   "execution_count": 371,
   "id": "d46e1cf4",
   "metadata": {},
   "outputs": [
    {
     "data": {
      "text/plain": [
       "HomePlanet      0\n",
       "CryoSleep       0\n",
       "Destination     0\n",
       "Age             0\n",
       "RoomService     0\n",
       "FoodCourt       0\n",
       "ShoppingMall    0\n",
       "Spa             0\n",
       "VRDeck          0\n",
       "Transported     0\n",
       "Deck            0\n",
       "Side            0\n",
       "dtype: int64"
      ]
     },
     "execution_count": 371,
     "metadata": {},
     "output_type": "execute_result"
    }
   ],
   "source": [
    "train.isna().sum()"
   ]
  },
  {
   "cell_type": "code",
   "execution_count": 372,
   "id": "d97170d6",
   "metadata": {
    "scrolled": true
   },
   "outputs": [
    {
     "data": {
      "text/plain": [
       "HomePlanet      0\n",
       "CryoSleep       0\n",
       "Destination     0\n",
       "Age             0\n",
       "RoomService     0\n",
       "FoodCourt       0\n",
       "ShoppingMall    0\n",
       "Spa             0\n",
       "VRDeck          0\n",
       "Deck            0\n",
       "Side            0\n",
       "dtype: int64"
      ]
     },
     "execution_count": 372,
     "metadata": {},
     "output_type": "execute_result"
    }
   ],
   "source": [
    "test.isna().sum()"
   ]
  },
  {
   "cell_type": "markdown",
   "id": "8679b33f",
   "metadata": {},
   "source": [
    "### now we encode the categorical features"
   ]
  },
  {
   "cell_type": "code",
   "execution_count": 373,
   "id": "fc7dc601",
   "metadata": {},
   "outputs": [
    {
     "name": "stdout",
     "output_type": "stream",
     "text": [
      "HomePlanet has 4 unique categories\n",
      "CryoSleep has 3 unique categories\n",
      "Destination has 4 unique categories\n",
      "Deck has 9 unique categories\n",
      "Side has 3 unique categories\n",
      "Age has 4 unique categories\n"
     ]
    }
   ],
   "source": [
    "#we can one-hot  encode the features with no more than 5 categories\n",
    "unique_count(train, cat_cols)"
   ]
  },
  {
   "cell_type": "code",
   "execution_count": 374,
   "id": "1edc5e28",
   "metadata": {},
   "outputs": [],
   "source": [
    "#and the for the cabin, we will encode them with target-encoding"
   ]
  },
  {
   "cell_type": "code",
   "execution_count": 375,
   "id": "6adcab7c",
   "metadata": {
    "scrolled": true
   },
   "outputs": [
    {
     "data": {
      "text/plain": [
       "['HomePlanet', 'CryoSleep', 'Destination', 'Deck', 'Side', 'Age']"
      ]
     },
     "execution_count": 375,
     "metadata": {},
     "output_type": "execute_result"
    }
   ],
   "source": [
    "cat_cols"
   ]
  },
  {
   "cell_type": "code",
   "execution_count": 376,
   "id": "cd3cfd74",
   "metadata": {},
   "outputs": [],
   "source": [
    "one_hot_features = cat_cols.copy()\n",
    "one_hot_features.remove(\"Deck\")\n",
    "dummies_train = pd.get_dummies(train[one_hot_features], drop_first=True)\n",
    "dummies_test = pd.get_dummies(test[one_hot_features], drop_first=True)"
   ]
  },
  {
   "cell_type": "code",
   "execution_count": 377,
   "id": "74a5374e",
   "metadata": {},
   "outputs": [],
   "source": [
    "train.drop(one_hot_features, axis=1, inplace=True)\n",
    "test.drop(one_hot_features, axis=1, inplace=True)"
   ]
  },
  {
   "cell_type": "code",
   "execution_count": 378,
   "id": "fc37197c",
   "metadata": {},
   "outputs": [],
   "source": [
    "train = pd.concat([train, dummies_train], axis=1)\n",
    "test = pd.concat([test, dummies_test], axis=1)"
   ]
  },
  {
   "cell_type": "code",
   "execution_count": 379,
   "id": "7b0b74ba",
   "metadata": {},
   "outputs": [
    {
     "data": {
      "text/plain": [
       "(20, 19)"
      ]
     },
     "execution_count": 379,
     "metadata": {},
     "output_type": "execute_result"
    }
   ],
   "source": [
    "len(train.columns), len(test.columns)"
   ]
  },
  {
   "cell_type": "code",
   "execution_count": 380,
   "id": "cfe95749",
   "metadata": {},
   "outputs": [],
   "source": [
    "deck_dict = train.groupby(\"Deck\")[\"Transported\"].mean()"
   ]
  },
  {
   "cell_type": "code",
   "execution_count": 381,
   "id": "6dd70911",
   "metadata": {},
   "outputs": [],
   "source": [
    "deck_dict = dict(deck_dict)"
   ]
  },
  {
   "cell_type": "code",
   "execution_count": 382,
   "id": "662914ac",
   "metadata": {
    "scrolled": true
   },
   "outputs": [],
   "source": [
    "train.Deck = train.Deck.map(deck_dict)\n",
    "test.Deck = test.Deck.map(deck_dict)"
   ]
  },
  {
   "cell_type": "code",
   "execution_count": 383,
   "id": "8a81c997",
   "metadata": {},
   "outputs": [
    {
     "data": {
      "text/html": [
       "<div>\n",
       "<style scoped>\n",
       "    .dataframe tbody tr th:only-of-type {\n",
       "        vertical-align: middle;\n",
       "    }\n",
       "\n",
       "    .dataframe tbody tr th {\n",
       "        vertical-align: top;\n",
       "    }\n",
       "\n",
       "    .dataframe thead th {\n",
       "        text-align: right;\n",
       "    }\n",
       "</style>\n",
       "<table border=\"1\" class=\"dataframe\">\n",
       "  <thead>\n",
       "    <tr style=\"text-align: right;\">\n",
       "      <th></th>\n",
       "      <th>RoomService</th>\n",
       "      <th>FoodCourt</th>\n",
       "      <th>ShoppingMall</th>\n",
       "      <th>Spa</th>\n",
       "      <th>VRDeck</th>\n",
       "      <th>Transported</th>\n",
       "      <th>Deck</th>\n",
       "      <th>HomePlanet_Europa</th>\n",
       "      <th>HomePlanet_Mars</th>\n",
       "      <th>HomePlanet_missing</th>\n",
       "      <th>CryoSleep_True</th>\n",
       "      <th>CryoSleep_missing</th>\n",
       "      <th>Destination_PSO J318.5-22</th>\n",
       "      <th>Destination_TRAPPIST-1e</th>\n",
       "      <th>Destination_missing</th>\n",
       "      <th>Side_S</th>\n",
       "      <th>Side_n</th>\n",
       "      <th>Age_missing</th>\n",
       "      <th>Age_old</th>\n",
       "      <th>Age_young</th>\n",
       "    </tr>\n",
       "  </thead>\n",
       "  <tbody>\n",
       "    <tr>\n",
       "      <th>0</th>\n",
       "      <td>0.0</td>\n",
       "      <td>0.0</td>\n",
       "      <td>0.0</td>\n",
       "      <td>0.0</td>\n",
       "      <td>0.0</td>\n",
       "      <td>False</td>\n",
       "      <td>0.734275</td>\n",
       "      <td>1</td>\n",
       "      <td>0</td>\n",
       "      <td>0</td>\n",
       "      <td>0</td>\n",
       "      <td>0</td>\n",
       "      <td>0</td>\n",
       "      <td>1</td>\n",
       "      <td>0</td>\n",
       "      <td>0</td>\n",
       "      <td>0</td>\n",
       "      <td>0</td>\n",
       "      <td>0</td>\n",
       "      <td>0</td>\n",
       "    </tr>\n",
       "    <tr>\n",
       "      <th>1</th>\n",
       "      <td>109.0</td>\n",
       "      <td>9.0</td>\n",
       "      <td>25.0</td>\n",
       "      <td>549.0</td>\n",
       "      <td>44.0</td>\n",
       "      <td>True</td>\n",
       "      <td>0.439871</td>\n",
       "      <td>0</td>\n",
       "      <td>0</td>\n",
       "      <td>0</td>\n",
       "      <td>0</td>\n",
       "      <td>0</td>\n",
       "      <td>0</td>\n",
       "      <td>1</td>\n",
       "      <td>0</td>\n",
       "      <td>1</td>\n",
       "      <td>0</td>\n",
       "      <td>0</td>\n",
       "      <td>0</td>\n",
       "      <td>1</td>\n",
       "    </tr>\n",
       "    <tr>\n",
       "      <th>2</th>\n",
       "      <td>43.0</td>\n",
       "      <td>3576.0</td>\n",
       "      <td>0.0</td>\n",
       "      <td>6715.0</td>\n",
       "      <td>49.0</td>\n",
       "      <td>False</td>\n",
       "      <td>0.496094</td>\n",
       "      <td>1</td>\n",
       "      <td>0</td>\n",
       "      <td>0</td>\n",
       "      <td>0</td>\n",
       "      <td>0</td>\n",
       "      <td>0</td>\n",
       "      <td>1</td>\n",
       "      <td>0</td>\n",
       "      <td>1</td>\n",
       "      <td>0</td>\n",
       "      <td>0</td>\n",
       "      <td>1</td>\n",
       "      <td>0</td>\n",
       "    </tr>\n",
       "    <tr>\n",
       "      <th>3</th>\n",
       "      <td>0.0</td>\n",
       "      <td>1283.0</td>\n",
       "      <td>371.0</td>\n",
       "      <td>3329.0</td>\n",
       "      <td>193.0</td>\n",
       "      <td>False</td>\n",
       "      <td>0.496094</td>\n",
       "      <td>1</td>\n",
       "      <td>0</td>\n",
       "      <td>0</td>\n",
       "      <td>0</td>\n",
       "      <td>0</td>\n",
       "      <td>0</td>\n",
       "      <td>1</td>\n",
       "      <td>0</td>\n",
       "      <td>1</td>\n",
       "      <td>0</td>\n",
       "      <td>0</td>\n",
       "      <td>0</td>\n",
       "      <td>0</td>\n",
       "    </tr>\n",
       "    <tr>\n",
       "      <th>4</th>\n",
       "      <td>303.0</td>\n",
       "      <td>70.0</td>\n",
       "      <td>151.0</td>\n",
       "      <td>565.0</td>\n",
       "      <td>2.0</td>\n",
       "      <td>True</td>\n",
       "      <td>0.439871</td>\n",
       "      <td>0</td>\n",
       "      <td>0</td>\n",
       "      <td>0</td>\n",
       "      <td>0</td>\n",
       "      <td>0</td>\n",
       "      <td>0</td>\n",
       "      <td>1</td>\n",
       "      <td>0</td>\n",
       "      <td>1</td>\n",
       "      <td>0</td>\n",
       "      <td>0</td>\n",
       "      <td>0</td>\n",
       "      <td>1</td>\n",
       "    </tr>\n",
       "    <tr>\n",
       "      <th>...</th>\n",
       "      <td>...</td>\n",
       "      <td>...</td>\n",
       "      <td>...</td>\n",
       "      <td>...</td>\n",
       "      <td>...</td>\n",
       "      <td>...</td>\n",
       "      <td>...</td>\n",
       "      <td>...</td>\n",
       "      <td>...</td>\n",
       "      <td>...</td>\n",
       "      <td>...</td>\n",
       "      <td>...</td>\n",
       "      <td>...</td>\n",
       "      <td>...</td>\n",
       "      <td>...</td>\n",
       "      <td>...</td>\n",
       "      <td>...</td>\n",
       "      <td>...</td>\n",
       "      <td>...</td>\n",
       "      <td>...</td>\n",
       "    </tr>\n",
       "    <tr>\n",
       "      <th>8688</th>\n",
       "      <td>0.0</td>\n",
       "      <td>6819.0</td>\n",
       "      <td>0.0</td>\n",
       "      <td>1643.0</td>\n",
       "      <td>74.0</td>\n",
       "      <td>False</td>\n",
       "      <td>0.496094</td>\n",
       "      <td>1</td>\n",
       "      <td>0</td>\n",
       "      <td>0</td>\n",
       "      <td>0</td>\n",
       "      <td>0</td>\n",
       "      <td>0</td>\n",
       "      <td>0</td>\n",
       "      <td>0</td>\n",
       "      <td>0</td>\n",
       "      <td>0</td>\n",
       "      <td>0</td>\n",
       "      <td>0</td>\n",
       "      <td>0</td>\n",
       "    </tr>\n",
       "    <tr>\n",
       "      <th>8689</th>\n",
       "      <td>0.0</td>\n",
       "      <td>0.0</td>\n",
       "      <td>0.0</td>\n",
       "      <td>0.0</td>\n",
       "      <td>0.0</td>\n",
       "      <td>False</td>\n",
       "      <td>0.516217</td>\n",
       "      <td>0</td>\n",
       "      <td>0</td>\n",
       "      <td>0</td>\n",
       "      <td>1</td>\n",
       "      <td>0</td>\n",
       "      <td>1</td>\n",
       "      <td>0</td>\n",
       "      <td>0</td>\n",
       "      <td>1</td>\n",
       "      <td>0</td>\n",
       "      <td>0</td>\n",
       "      <td>0</td>\n",
       "      <td>1</td>\n",
       "    </tr>\n",
       "    <tr>\n",
       "      <th>8690</th>\n",
       "      <td>0.0</td>\n",
       "      <td>0.0</td>\n",
       "      <td>1872.0</td>\n",
       "      <td>1.0</td>\n",
       "      <td>0.0</td>\n",
       "      <td>True</td>\n",
       "      <td>0.516217</td>\n",
       "      <td>0</td>\n",
       "      <td>0</td>\n",
       "      <td>0</td>\n",
       "      <td>0</td>\n",
       "      <td>0</td>\n",
       "      <td>0</td>\n",
       "      <td>1</td>\n",
       "      <td>0</td>\n",
       "      <td>1</td>\n",
       "      <td>0</td>\n",
       "      <td>0</td>\n",
       "      <td>0</td>\n",
       "      <td>1</td>\n",
       "    </tr>\n",
       "    <tr>\n",
       "      <th>8691</th>\n",
       "      <td>0.0</td>\n",
       "      <td>1049.0</td>\n",
       "      <td>0.0</td>\n",
       "      <td>353.0</td>\n",
       "      <td>3235.0</td>\n",
       "      <td>False</td>\n",
       "      <td>0.357306</td>\n",
       "      <td>1</td>\n",
       "      <td>0</td>\n",
       "      <td>0</td>\n",
       "      <td>0</td>\n",
       "      <td>0</td>\n",
       "      <td>0</td>\n",
       "      <td>0</td>\n",
       "      <td>0</td>\n",
       "      <td>1</td>\n",
       "      <td>0</td>\n",
       "      <td>0</td>\n",
       "      <td>0</td>\n",
       "      <td>0</td>\n",
       "    </tr>\n",
       "    <tr>\n",
       "      <th>8692</th>\n",
       "      <td>126.0</td>\n",
       "      <td>4688.0</td>\n",
       "      <td>0.0</td>\n",
       "      <td>0.0</td>\n",
       "      <td>12.0</td>\n",
       "      <td>True</td>\n",
       "      <td>0.357306</td>\n",
       "      <td>1</td>\n",
       "      <td>0</td>\n",
       "      <td>0</td>\n",
       "      <td>0</td>\n",
       "      <td>0</td>\n",
       "      <td>0</td>\n",
       "      <td>1</td>\n",
       "      <td>0</td>\n",
       "      <td>1</td>\n",
       "      <td>0</td>\n",
       "      <td>0</td>\n",
       "      <td>0</td>\n",
       "      <td>0</td>\n",
       "    </tr>\n",
       "  </tbody>\n",
       "</table>\n",
       "<p>8693 rows × 20 columns</p>\n",
       "</div>"
      ],
      "text/plain": [
       "      RoomService  FoodCourt  ShoppingMall     Spa  VRDeck  Transported  \\\n",
       "0             0.0        0.0           0.0     0.0     0.0        False   \n",
       "1           109.0        9.0          25.0   549.0    44.0         True   \n",
       "2            43.0     3576.0           0.0  6715.0    49.0        False   \n",
       "3             0.0     1283.0         371.0  3329.0   193.0        False   \n",
       "4           303.0       70.0         151.0   565.0     2.0         True   \n",
       "...           ...        ...           ...     ...     ...          ...   \n",
       "8688          0.0     6819.0           0.0  1643.0    74.0        False   \n",
       "8689          0.0        0.0           0.0     0.0     0.0        False   \n",
       "8690          0.0        0.0        1872.0     1.0     0.0         True   \n",
       "8691          0.0     1049.0           0.0   353.0  3235.0        False   \n",
       "8692        126.0     4688.0           0.0     0.0    12.0         True   \n",
       "\n",
       "          Deck  HomePlanet_Europa  HomePlanet_Mars  HomePlanet_missing  \\\n",
       "0     0.734275                  1                0                   0   \n",
       "1     0.439871                  0                0                   0   \n",
       "2     0.496094                  1                0                   0   \n",
       "3     0.496094                  1                0                   0   \n",
       "4     0.439871                  0                0                   0   \n",
       "...        ...                ...              ...                 ...   \n",
       "8688  0.496094                  1                0                   0   \n",
       "8689  0.516217                  0                0                   0   \n",
       "8690  0.516217                  0                0                   0   \n",
       "8691  0.357306                  1                0                   0   \n",
       "8692  0.357306                  1                0                   0   \n",
       "\n",
       "      CryoSleep_True  CryoSleep_missing  Destination_PSO J318.5-22  \\\n",
       "0                  0                  0                          0   \n",
       "1                  0                  0                          0   \n",
       "2                  0                  0                          0   \n",
       "3                  0                  0                          0   \n",
       "4                  0                  0                          0   \n",
       "...              ...                ...                        ...   \n",
       "8688               0                  0                          0   \n",
       "8689               1                  0                          1   \n",
       "8690               0                  0                          0   \n",
       "8691               0                  0                          0   \n",
       "8692               0                  0                          0   \n",
       "\n",
       "      Destination_TRAPPIST-1e  Destination_missing  Side_S  Side_n  \\\n",
       "0                           1                    0       0       0   \n",
       "1                           1                    0       1       0   \n",
       "2                           1                    0       1       0   \n",
       "3                           1                    0       1       0   \n",
       "4                           1                    0       1       0   \n",
       "...                       ...                  ...     ...     ...   \n",
       "8688                        0                    0       0       0   \n",
       "8689                        0                    0       1       0   \n",
       "8690                        1                    0       1       0   \n",
       "8691                        0                    0       1       0   \n",
       "8692                        1                    0       1       0   \n",
       "\n",
       "      Age_missing  Age_old  Age_young  \n",
       "0               0        0          0  \n",
       "1               0        0          1  \n",
       "2               0        1          0  \n",
       "3               0        0          0  \n",
       "4               0        0          1  \n",
       "...           ...      ...        ...  \n",
       "8688            0        0          0  \n",
       "8689            0        0          1  \n",
       "8690            0        0          1  \n",
       "8691            0        0          0  \n",
       "8692            0        0          0  \n",
       "\n",
       "[8693 rows x 20 columns]"
      ]
     },
     "execution_count": 383,
     "metadata": {},
     "output_type": "execute_result"
    }
   ],
   "source": [
    "train"
   ]
  },
  {
   "cell_type": "code",
   "execution_count": 384,
   "id": "6a531bb6",
   "metadata": {},
   "outputs": [
    {
     "data": {
      "text/html": [
       "<div>\n",
       "<style scoped>\n",
       "    .dataframe tbody tr th:only-of-type {\n",
       "        vertical-align: middle;\n",
       "    }\n",
       "\n",
       "    .dataframe tbody tr th {\n",
       "        vertical-align: top;\n",
       "    }\n",
       "\n",
       "    .dataframe thead th {\n",
       "        text-align: right;\n",
       "    }\n",
       "</style>\n",
       "<table border=\"1\" class=\"dataframe\">\n",
       "  <thead>\n",
       "    <tr style=\"text-align: right;\">\n",
       "      <th></th>\n",
       "      <th>RoomService</th>\n",
       "      <th>FoodCourt</th>\n",
       "      <th>ShoppingMall</th>\n",
       "      <th>Spa</th>\n",
       "      <th>VRDeck</th>\n",
       "      <th>Deck</th>\n",
       "      <th>HomePlanet_Europa</th>\n",
       "      <th>HomePlanet_Mars</th>\n",
       "      <th>HomePlanet_missing</th>\n",
       "      <th>CryoSleep_True</th>\n",
       "      <th>CryoSleep_missing</th>\n",
       "      <th>Destination_PSO J318.5-22</th>\n",
       "      <th>Destination_TRAPPIST-1e</th>\n",
       "      <th>Destination_missing</th>\n",
       "      <th>Side_S</th>\n",
       "      <th>Side_n</th>\n",
       "      <th>Age_missing</th>\n",
       "      <th>Age_old</th>\n",
       "      <th>Age_young</th>\n",
       "    </tr>\n",
       "  </thead>\n",
       "  <tbody>\n",
       "    <tr>\n",
       "      <th>0</th>\n",
       "      <td>0.0</td>\n",
       "      <td>0.0</td>\n",
       "      <td>0.0</td>\n",
       "      <td>0.0</td>\n",
       "      <td>0.0</td>\n",
       "      <td>0.516217</td>\n",
       "      <td>0</td>\n",
       "      <td>0</td>\n",
       "      <td>0</td>\n",
       "      <td>1</td>\n",
       "      <td>0</td>\n",
       "      <td>0</td>\n",
       "      <td>1</td>\n",
       "      <td>0</td>\n",
       "      <td>1</td>\n",
       "      <td>0</td>\n",
       "      <td>0</td>\n",
       "      <td>0</td>\n",
       "      <td>0</td>\n",
       "    </tr>\n",
       "    <tr>\n",
       "      <th>1</th>\n",
       "      <td>0.0</td>\n",
       "      <td>9.0</td>\n",
       "      <td>0.0</td>\n",
       "      <td>2823.0</td>\n",
       "      <td>0.0</td>\n",
       "      <td>0.439871</td>\n",
       "      <td>0</td>\n",
       "      <td>0</td>\n",
       "      <td>0</td>\n",
       "      <td>0</td>\n",
       "      <td>0</td>\n",
       "      <td>0</td>\n",
       "      <td>1</td>\n",
       "      <td>0</td>\n",
       "      <td>1</td>\n",
       "      <td>0</td>\n",
       "      <td>0</td>\n",
       "      <td>0</td>\n",
       "      <td>1</td>\n",
       "    </tr>\n",
       "    <tr>\n",
       "      <th>2</th>\n",
       "      <td>0.0</td>\n",
       "      <td>0.0</td>\n",
       "      <td>0.0</td>\n",
       "      <td>0.0</td>\n",
       "      <td>0.0</td>\n",
       "      <td>0.680054</td>\n",
       "      <td>1</td>\n",
       "      <td>0</td>\n",
       "      <td>0</td>\n",
       "      <td>1</td>\n",
       "      <td>0</td>\n",
       "      <td>0</td>\n",
       "      <td>0</td>\n",
       "      <td>0</td>\n",
       "      <td>1</td>\n",
       "      <td>0</td>\n",
       "      <td>0</td>\n",
       "      <td>0</td>\n",
       "      <td>0</td>\n",
       "    </tr>\n",
       "    <tr>\n",
       "      <th>3</th>\n",
       "      <td>0.0</td>\n",
       "      <td>6652.0</td>\n",
       "      <td>0.0</td>\n",
       "      <td>181.0</td>\n",
       "      <td>585.0</td>\n",
       "      <td>0.680054</td>\n",
       "      <td>1</td>\n",
       "      <td>0</td>\n",
       "      <td>0</td>\n",
       "      <td>0</td>\n",
       "      <td>0</td>\n",
       "      <td>0</td>\n",
       "      <td>1</td>\n",
       "      <td>0</td>\n",
       "      <td>1</td>\n",
       "      <td>0</td>\n",
       "      <td>0</td>\n",
       "      <td>0</td>\n",
       "      <td>0</td>\n",
       "    </tr>\n",
       "    <tr>\n",
       "      <th>4</th>\n",
       "      <td>10.0</td>\n",
       "      <td>0.0</td>\n",
       "      <td>635.0</td>\n",
       "      <td>0.0</td>\n",
       "      <td>0.0</td>\n",
       "      <td>0.439871</td>\n",
       "      <td>0</td>\n",
       "      <td>0</td>\n",
       "      <td>0</td>\n",
       "      <td>0</td>\n",
       "      <td>0</td>\n",
       "      <td>0</td>\n",
       "      <td>1</td>\n",
       "      <td>0</td>\n",
       "      <td>1</td>\n",
       "      <td>0</td>\n",
       "      <td>0</td>\n",
       "      <td>0</td>\n",
       "      <td>1</td>\n",
       "    </tr>\n",
       "    <tr>\n",
       "      <th>...</th>\n",
       "      <td>...</td>\n",
       "      <td>...</td>\n",
       "      <td>...</td>\n",
       "      <td>...</td>\n",
       "      <td>...</td>\n",
       "      <td>...</td>\n",
       "      <td>...</td>\n",
       "      <td>...</td>\n",
       "      <td>...</td>\n",
       "      <td>...</td>\n",
       "      <td>...</td>\n",
       "      <td>...</td>\n",
       "      <td>...</td>\n",
       "      <td>...</td>\n",
       "      <td>...</td>\n",
       "      <td>...</td>\n",
       "      <td>...</td>\n",
       "      <td>...</td>\n",
       "      <td>...</td>\n",
       "    </tr>\n",
       "    <tr>\n",
       "      <th>4272</th>\n",
       "      <td>0.0</td>\n",
       "      <td>0.0</td>\n",
       "      <td>0.0</td>\n",
       "      <td>0.0</td>\n",
       "      <td>0.0</td>\n",
       "      <td>0.516217</td>\n",
       "      <td>0</td>\n",
       "      <td>0</td>\n",
       "      <td>0</td>\n",
       "      <td>1</td>\n",
       "      <td>0</td>\n",
       "      <td>0</td>\n",
       "      <td>1</td>\n",
       "      <td>0</td>\n",
       "      <td>1</td>\n",
       "      <td>0</td>\n",
       "      <td>0</td>\n",
       "      <td>0</td>\n",
       "      <td>0</td>\n",
       "    </tr>\n",
       "    <tr>\n",
       "      <th>4273</th>\n",
       "      <td>0.0</td>\n",
       "      <td>847.0</td>\n",
       "      <td>17.0</td>\n",
       "      <td>10.0</td>\n",
       "      <td>144.0</td>\n",
       "      <td>0.502513</td>\n",
       "      <td>0</td>\n",
       "      <td>0</td>\n",
       "      <td>0</td>\n",
       "      <td>0</td>\n",
       "      <td>0</td>\n",
       "      <td>0</td>\n",
       "      <td>1</td>\n",
       "      <td>0</td>\n",
       "      <td>0</td>\n",
       "      <td>1</td>\n",
       "      <td>0</td>\n",
       "      <td>0</td>\n",
       "      <td>0</td>\n",
       "    </tr>\n",
       "    <tr>\n",
       "      <th>4274</th>\n",
       "      <td>0.0</td>\n",
       "      <td>0.0</td>\n",
       "      <td>0.0</td>\n",
       "      <td>0.0</td>\n",
       "      <td>0.0</td>\n",
       "      <td>0.433054</td>\n",
       "      <td>0</td>\n",
       "      <td>1</td>\n",
       "      <td>0</td>\n",
       "      <td>1</td>\n",
       "      <td>0</td>\n",
       "      <td>0</td>\n",
       "      <td>0</td>\n",
       "      <td>0</td>\n",
       "      <td>0</td>\n",
       "      <td>0</td>\n",
       "      <td>1</td>\n",
       "      <td>0</td>\n",
       "      <td>0</td>\n",
       "    </tr>\n",
       "    <tr>\n",
       "      <th>4275</th>\n",
       "      <td>0.0</td>\n",
       "      <td>2680.0</td>\n",
       "      <td>0.0</td>\n",
       "      <td>0.0</td>\n",
       "      <td>523.0</td>\n",
       "      <td>0.433054</td>\n",
       "      <td>1</td>\n",
       "      <td>0</td>\n",
       "      <td>0</td>\n",
       "      <td>0</td>\n",
       "      <td>0</td>\n",
       "      <td>0</td>\n",
       "      <td>0</td>\n",
       "      <td>1</td>\n",
       "      <td>0</td>\n",
       "      <td>0</td>\n",
       "      <td>1</td>\n",
       "      <td>0</td>\n",
       "      <td>0</td>\n",
       "    </tr>\n",
       "    <tr>\n",
       "      <th>4276</th>\n",
       "      <td>0.0</td>\n",
       "      <td>0.0</td>\n",
       "      <td>0.0</td>\n",
       "      <td>0.0</td>\n",
       "      <td>0.0</td>\n",
       "      <td>0.516217</td>\n",
       "      <td>0</td>\n",
       "      <td>0</td>\n",
       "      <td>0</td>\n",
       "      <td>1</td>\n",
       "      <td>0</td>\n",
       "      <td>1</td>\n",
       "      <td>0</td>\n",
       "      <td>0</td>\n",
       "      <td>1</td>\n",
       "      <td>0</td>\n",
       "      <td>0</td>\n",
       "      <td>0</td>\n",
       "      <td>0</td>\n",
       "    </tr>\n",
       "  </tbody>\n",
       "</table>\n",
       "<p>4277 rows × 19 columns</p>\n",
       "</div>"
      ],
      "text/plain": [
       "      RoomService  FoodCourt  ShoppingMall     Spa  VRDeck      Deck  \\\n",
       "0             0.0        0.0           0.0     0.0     0.0  0.516217   \n",
       "1             0.0        9.0           0.0  2823.0     0.0  0.439871   \n",
       "2             0.0        0.0           0.0     0.0     0.0  0.680054   \n",
       "3             0.0     6652.0           0.0   181.0   585.0  0.680054   \n",
       "4            10.0        0.0         635.0     0.0     0.0  0.439871   \n",
       "...           ...        ...           ...     ...     ...       ...   \n",
       "4272          0.0        0.0           0.0     0.0     0.0  0.516217   \n",
       "4273          0.0      847.0          17.0    10.0   144.0  0.502513   \n",
       "4274          0.0        0.0           0.0     0.0     0.0  0.433054   \n",
       "4275          0.0     2680.0           0.0     0.0   523.0  0.433054   \n",
       "4276          0.0        0.0           0.0     0.0     0.0  0.516217   \n",
       "\n",
       "      HomePlanet_Europa  HomePlanet_Mars  HomePlanet_missing  CryoSleep_True  \\\n",
       "0                     0                0                   0               1   \n",
       "1                     0                0                   0               0   \n",
       "2                     1                0                   0               1   \n",
       "3                     1                0                   0               0   \n",
       "4                     0                0                   0               0   \n",
       "...                 ...              ...                 ...             ...   \n",
       "4272                  0                0                   0               1   \n",
       "4273                  0                0                   0               0   \n",
       "4274                  0                1                   0               1   \n",
       "4275                  1                0                   0               0   \n",
       "4276                  0                0                   0               1   \n",
       "\n",
       "      CryoSleep_missing  Destination_PSO J318.5-22  Destination_TRAPPIST-1e  \\\n",
       "0                     0                          0                        1   \n",
       "1                     0                          0                        1   \n",
       "2                     0                          0                        0   \n",
       "3                     0                          0                        1   \n",
       "4                     0                          0                        1   \n",
       "...                 ...                        ...                      ...   \n",
       "4272                  0                          0                        1   \n",
       "4273                  0                          0                        1   \n",
       "4274                  0                          0                        0   \n",
       "4275                  0                          0                        0   \n",
       "4276                  0                          1                        0   \n",
       "\n",
       "      Destination_missing  Side_S  Side_n  Age_missing  Age_old  Age_young  \n",
       "0                       0       1       0            0        0          0  \n",
       "1                       0       1       0            0        0          1  \n",
       "2                       0       1       0            0        0          0  \n",
       "3                       0       1       0            0        0          0  \n",
       "4                       0       1       0            0        0          1  \n",
       "...                   ...     ...     ...          ...      ...        ...  \n",
       "4272                    0       1       0            0        0          0  \n",
       "4273                    0       0       1            0        0          0  \n",
       "4274                    0       0       0            1        0          0  \n",
       "4275                    1       0       0            1        0          0  \n",
       "4276                    0       1       0            0        0          0  \n",
       "\n",
       "[4277 rows x 19 columns]"
      ]
     },
     "execution_count": 384,
     "metadata": {},
     "output_type": "execute_result"
    }
   ],
   "source": [
    "test"
   ]
  },
  {
   "cell_type": "code",
   "execution_count": 385,
   "id": "e7d2b45b",
   "metadata": {},
   "outputs": [],
   "source": [
    "X = train.drop(\"Transported\", axis=1)\n",
    "y = train.Transported.astype(int)"
   ]
  },
  {
   "cell_type": "code",
   "execution_count": 386,
   "id": "43faa287",
   "metadata": {},
   "outputs": [
    {
     "name": "stdout",
     "output_type": "stream",
     "text": [
      "<class 'pandas.core.frame.DataFrame'>\n",
      "RangeIndex: 8693 entries, 0 to 8692\n",
      "Data columns (total 19 columns):\n",
      " #   Column                     Non-Null Count  Dtype  \n",
      "---  ------                     --------------  -----  \n",
      " 0   RoomService                8693 non-null   float64\n",
      " 1   FoodCourt                  8693 non-null   float64\n",
      " 2   ShoppingMall               8693 non-null   float64\n",
      " 3   Spa                        8693 non-null   float64\n",
      " 4   VRDeck                     8693 non-null   float64\n",
      " 5   Deck                       8693 non-null   float64\n",
      " 6   HomePlanet_Europa          8693 non-null   uint8  \n",
      " 7   HomePlanet_Mars            8693 non-null   uint8  \n",
      " 8   HomePlanet_missing         8693 non-null   uint8  \n",
      " 9   CryoSleep_True             8693 non-null   uint8  \n",
      " 10  CryoSleep_missing          8693 non-null   uint8  \n",
      " 11  Destination_PSO J318.5-22  8693 non-null   uint8  \n",
      " 12  Destination_TRAPPIST-1e    8693 non-null   uint8  \n",
      " 13  Destination_missing        8693 non-null   uint8  \n",
      " 14  Side_S                     8693 non-null   uint8  \n",
      " 15  Side_n                     8693 non-null   uint8  \n",
      " 16  Age_missing                8693 non-null   uint8  \n",
      " 17  Age_old                    8693 non-null   uint8  \n",
      " 18  Age_young                  8693 non-null   uint8  \n",
      "dtypes: float64(6), uint8(13)\n",
      "memory usage: 518.0 KB\n"
     ]
    }
   ],
   "source": [
    "X.info()"
   ]
  },
  {
   "cell_type": "code",
   "execution_count": 387,
   "id": "4dec751e",
   "metadata": {},
   "outputs": [
    {
     "name": "stdout",
     "output_type": "stream",
     "text": [
      "<class 'pandas.core.series.Series'>\n",
      "RangeIndex: 8693 entries, 0 to 8692\n",
      "Series name: Transported\n",
      "Non-Null Count  Dtype\n",
      "--------------  -----\n",
      "8693 non-null   int32\n",
      "dtypes: int32(1)\n",
      "memory usage: 34.1 KB\n"
     ]
    }
   ],
   "source": [
    "y.info()"
   ]
  },
  {
   "cell_type": "code",
   "execution_count": 388,
   "id": "6b4cf415",
   "metadata": {},
   "outputs": [],
   "source": [
    "from sklearn.ensemble import RandomForestClassifier\n",
    "clf = RandomForestClassifier()"
   ]
  },
  {
   "cell_type": "code",
   "execution_count": 389,
   "id": "65ac89cf",
   "metadata": {
    "scrolled": true
   },
   "outputs": [
    {
     "data": {
      "text/plain": [
       "RandomForestClassifier()"
      ]
     },
     "execution_count": 389,
     "metadata": {},
     "output_type": "execute_result"
    }
   ],
   "source": [
    "clf.fit(X, y)"
   ]
  },
  {
   "cell_type": "code",
   "execution_count": 390,
   "id": "04db7852",
   "metadata": {
    "scrolled": false
   },
   "outputs": [
    {
     "data": {
      "text/plain": [
       "0.922121246980329"
      ]
     },
     "execution_count": 390,
     "metadata": {},
     "output_type": "execute_result"
    }
   ],
   "source": [
    "clf.score(X, y)"
   ]
  },
  {
   "cell_type": "code",
   "execution_count": 391,
   "id": "26020384",
   "metadata": {
    "scrolled": false
   },
   "outputs": [
    {
     "data": {
      "image/png": "[encoded data removed]",
      "text/plain": [
       "<Figure size 1080x648 with 1 Axes>"
      ]
     },
     "metadata": {
      "needs_background": "light"
     },
     "output_type": "display_data"
    }
   ],
   "source": [
    "importances = clf.feature_importances_\n",
    "std = np.std([tree.feature_importances_ for tree in clf.estimators_], axis=0)\n",
    "\n",
    "forest_importances = pd.Series(importances, index=X.columns)\n",
    "\n",
    "fig, ax = plt.subplots(figsize=(15, 9))\n",
    "forest_importances.plot.bar(yerr=std, ax=ax)\n",
    "ax.set_title(\"Feature importances using MDI\")\n",
    "ax.axhline(y=1/(len(X.columns) * 2), color='red')\n",
    "ax.set_ylabel(\"Mean decrease in impurity\")\n",
    "fig.tight_layout()"
   ]
  },
  {
   "cell_type": "code",
   "execution_count": 392,
   "id": "4f26f037",
   "metadata": {},
   "outputs": [],
   "source": [
    "unimportant_features = [forest_importances[forest_importances < 1/(len(X.columns) * 2)].index]"
   ]
  },
  {
   "cell_type": "code",
   "execution_count": 393,
   "id": "ca78595f",
   "metadata": {},
   "outputs": [],
   "source": [
    "X.drop(unimportant_features[0], axis=1, inplace=True)"
   ]
  },
  {
   "cell_type": "code",
   "execution_count": 394,
   "id": "fe4bd3ba",
   "metadata": {},
   "outputs": [],
   "source": [
    "test.drop(unimportant_features[0], axis=1, inplace=True)"
   ]
  },
  {
   "cell_type": "code",
   "execution_count": 395,
   "id": "0b262bf6",
   "metadata": {},
   "outputs": [
    {
     "data": {
      "text/plain": [
       "RandomForestClassifier()"
      ]
     },
     "execution_count": 395,
     "metadata": {},
     "output_type": "execute_result"
    }
   ],
   "source": [
    "from sklearn.ensemble import RandomForestClassifier\n",
    "clf = RandomForestClassifier()\n",
    "clf.fit(X, y)"
   ]
  },
  {
   "cell_type": "code",
   "execution_count": 396,
   "id": "7c6912d6",
   "metadata": {
    "scrolled": true
   },
   "outputs": [
    {
     "data": {
      "text/plain": [
       "0.9119981594386288"
      ]
     },
     "execution_count": 396,
     "metadata": {},
     "output_type": "execute_result"
    }
   ],
   "source": [
    "clf.score(X, y)"
   ]
  },
  {
   "cell_type": "code",
   "execution_count": 397,
   "id": "0673368c",
   "metadata": {},
   "outputs": [
    {
     "data": {
      "text/html": [
       "<div>\n",
       "<style scoped>\n",
       "    .dataframe tbody tr th:only-of-type {\n",
       "        vertical-align: middle;\n",
       "    }\n",
       "\n",
       "    .dataframe tbody tr th {\n",
       "        vertical-align: top;\n",
       "    }\n",
       "\n",
       "    .dataframe thead th {\n",
       "        text-align: right;\n",
       "    }\n",
       "</style>\n",
       "<table border=\"1\" class=\"dataframe\">\n",
       "  <thead>\n",
       "    <tr style=\"text-align: right;\">\n",
       "      <th></th>\n",
       "      <th>RoomService</th>\n",
       "      <th>FoodCourt</th>\n",
       "      <th>ShoppingMall</th>\n",
       "      <th>Spa</th>\n",
       "      <th>VRDeck</th>\n",
       "      <th>Deck</th>\n",
       "      <th>HomePlanet_Europa</th>\n",
       "      <th>CryoSleep_True</th>\n",
       "    </tr>\n",
       "  </thead>\n",
       "  <tbody>\n",
       "    <tr>\n",
       "      <th>0</th>\n",
       "      <td>0.0</td>\n",
       "      <td>0.0</td>\n",
       "      <td>0.0</td>\n",
       "      <td>0.0</td>\n",
       "      <td>0.0</td>\n",
       "      <td>0.734275</td>\n",
       "      <td>1</td>\n",
       "      <td>0</td>\n",
       "    </tr>\n",
       "    <tr>\n",
       "      <th>1</th>\n",
       "      <td>109.0</td>\n",
       "      <td>9.0</td>\n",
       "      <td>25.0</td>\n",
       "      <td>549.0</td>\n",
       "      <td>44.0</td>\n",
       "      <td>0.439871</td>\n",
       "      <td>0</td>\n",
       "      <td>0</td>\n",
       "    </tr>\n",
       "    <tr>\n",
       "      <th>2</th>\n",
       "      <td>43.0</td>\n",
       "      <td>3576.0</td>\n",
       "      <td>0.0</td>\n",
       "      <td>6715.0</td>\n",
       "      <td>49.0</td>\n",
       "      <td>0.496094</td>\n",
       "      <td>1</td>\n",
       "      <td>0</td>\n",
       "    </tr>\n",
       "    <tr>\n",
       "      <th>3</th>\n",
       "      <td>0.0</td>\n",
       "      <td>1283.0</td>\n",
       "      <td>371.0</td>\n",
       "      <td>3329.0</td>\n",
       "      <td>193.0</td>\n",
       "      <td>0.496094</td>\n",
       "      <td>1</td>\n",
       "      <td>0</td>\n",
       "    </tr>\n",
       "    <tr>\n",
       "      <th>4</th>\n",
       "      <td>303.0</td>\n",
       "      <td>70.0</td>\n",
       "      <td>151.0</td>\n",
       "      <td>565.0</td>\n",
       "      <td>2.0</td>\n",
       "      <td>0.439871</td>\n",
       "      <td>0</td>\n",
       "      <td>0</td>\n",
       "    </tr>\n",
       "    <tr>\n",
       "      <th>...</th>\n",
       "      <td>...</td>\n",
       "      <td>...</td>\n",
       "      <td>...</td>\n",
       "      <td>...</td>\n",
       "      <td>...</td>\n",
       "      <td>...</td>\n",
       "      <td>...</td>\n",
       "      <td>...</td>\n",
       "    </tr>\n",
       "    <tr>\n",
       "      <th>8688</th>\n",
       "      <td>0.0</td>\n",
       "      <td>6819.0</td>\n",
       "      <td>0.0</td>\n",
       "      <td>1643.0</td>\n",
       "      <td>74.0</td>\n",
       "      <td>0.496094</td>\n",
       "      <td>1</td>\n",
       "      <td>0</td>\n",
       "    </tr>\n",
       "    <tr>\n",
       "      <th>8689</th>\n",
       "      <td>0.0</td>\n",
       "      <td>0.0</td>\n",
       "      <td>0.0</td>\n",
       "      <td>0.0</td>\n",
       "      <td>0.0</td>\n",
       "      <td>0.516217</td>\n",
       "      <td>0</td>\n",
       "      <td>1</td>\n",
       "    </tr>\n",
       "    <tr>\n",
       "      <th>8690</th>\n",
       "      <td>0.0</td>\n",
       "      <td>0.0</td>\n",
       "      <td>1872.0</td>\n",
       "      <td>1.0</td>\n",
       "      <td>0.0</td>\n",
       "      <td>0.516217</td>\n",
       "      <td>0</td>\n",
       "      <td>0</td>\n",
       "    </tr>\n",
       "    <tr>\n",
       "      <th>8691</th>\n",
       "      <td>0.0</td>\n",
       "      <td>1049.0</td>\n",
       "      <td>0.0</td>\n",
       "      <td>353.0</td>\n",
       "      <td>3235.0</td>\n",
       "      <td>0.357306</td>\n",
       "      <td>1</td>\n",
       "      <td>0</td>\n",
       "    </tr>\n",
       "    <tr>\n",
       "      <th>8692</th>\n",
       "      <td>126.0</td>\n",
       "      <td>4688.0</td>\n",
       "      <td>0.0</td>\n",
       "      <td>0.0</td>\n",
       "      <td>12.0</td>\n",
       "      <td>0.357306</td>\n",
       "      <td>1</td>\n",
       "      <td>0</td>\n",
       "    </tr>\n",
       "  </tbody>\n",
       "</table>\n",
       "<p>8693 rows × 8 columns</p>\n",
       "</div>"
      ],
      "text/plain": [
       "      RoomService  FoodCourt  ShoppingMall     Spa  VRDeck      Deck  \\\n",
       "0             0.0        0.0           0.0     0.0     0.0  0.734275   \n",
       "1           109.0        9.0          25.0   549.0    44.0  0.439871   \n",
       "2            43.0     3576.0           0.0  6715.0    49.0  0.496094   \n",
       "3             0.0     1283.0         371.0  3329.0   193.0  0.496094   \n",
       "4           303.0       70.0         151.0   565.0     2.0  0.439871   \n",
       "...           ...        ...           ...     ...     ...       ...   \n",
       "8688          0.0     6819.0           0.0  1643.0    74.0  0.496094   \n",
       "8689          0.0        0.0           0.0     0.0     0.0  0.516217   \n",
       "8690          0.0        0.0        1872.0     1.0     0.0  0.516217   \n",
       "8691          0.0     1049.0           0.0   353.0  3235.0  0.357306   \n",
       "8692        126.0     4688.0           0.0     0.0    12.0  0.357306   \n",
       "\n",
       "      HomePlanet_Europa  CryoSleep_True  \n",
       "0                     1               0  \n",
       "1                     0               0  \n",
       "2                     1               0  \n",
       "3                     1               0  \n",
       "4                     0               0  \n",
       "...                 ...             ...  \n",
       "8688                  1               0  \n",
       "8689                  0               1  \n",
       "8690                  0               0  \n",
       "8691                  1               0  \n",
       "8692                  1               0  \n",
       "\n",
       "[8693 rows x 8 columns]"
      ]
     },
     "execution_count": 397,
     "metadata": {},
     "output_type": "execute_result"
    }
   ],
   "source": [
    "X"
   ]
  },
  {
   "cell_type": "code",
   "execution_count": 128,
   "id": "af716c02",
   "metadata": {},
   "outputs": [],
   "source": [
    "preds = clf.predict(test)"
   ]
  },
  {
   "cell_type": "code",
   "execution_count": 129,
   "id": "c6fb7dcb",
   "metadata": {},
   "outputs": [],
   "source": [
    "sample_submission[\"Transported\"] = preds"
   ]
  },
  {
   "cell_type": "code",
   "execution_count": 130,
   "id": "c8bae4a8",
   "metadata": {},
   "outputs": [],
   "source": [
    "sample_submission.Transported = sample_submission.Transported.astype(bool)"
   ]
  },
  {
   "cell_type": "code",
   "execution_count": 131,
   "id": "0fac5170",
   "metadata": {},
   "outputs": [],
   "source": [
    "sample_submission.to_csv(\"submission_3.csv\", index=False)"
   ]
  },
  {
   "cell_type": "code",
   "execution_count": null,
   "id": "2bc0a47a",
   "metadata": {},
   "outputs": [],
   "source": []
  }
 ],
 "metadata": {
  "kernelspec": {
   "display_name": "Python 3 (ipykernel)",
   "language": "python",
   "name": "python3"
  },
  "language_info": {
   "codemirror_mode": {
    "name": "ipython",
    "version": 3
   },
   "file_extension": ".py",
   "mimetype": "text/x-python",
   "name": "python",
   "nbconvert_exporter": "python",
   "pygments_lexer": "ipython3",
   "version": "3.9.7"
  }
 },
 "nbformat": 4,
 "nbformat_minor": 5
}
