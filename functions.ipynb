{
 "cells": [
  {
   "cell_type": "code",
   "execution_count": 13,
   "id": "32447cb4",
   "metadata": {},
   "outputs": [],
   "source": [
    "import pandas as pd\n",
    "import numpy as np"
   ]
  },
  {
   "cell_type": "code",
   "execution_count": 14,
   "id": "71f1f776",
   "metadata": {},
   "outputs": [],
   "source": [
    "class handy():\n",
    "    def __init__(self, df):\n",
    "        self.df = df\n",
    "    def seperate_types(self):\n",
    "        num_con_cols = []\n",
    "        num_disc_cols = []\n",
    "        cat_cols = []\n",
    "\n",
    "        for label, value in self.df.items:\n",
    "            if pd.api.types.is_string_dtype(value):\n",
    "                cat_cols.append(label)\n",
    "            else:\n",
    "                if self.df.nunique() > 100:\n",
    "                    num_con_cols.append(label)\n",
    "                else:\n",
    "                    num_disc_cols.append(label)\n",
    "        return num_con_cols, num_disc_cols, cat_cols"
   ]
  },
  {
   "cell_type": "code",
   "execution_count": null,
   "id": "949c98a3",
   "metadata": {},
   "outputs": [],
   "source": []
  }
 ],
 "metadata": {
  "kernelspec": {
   "display_name": "Python 3 (ipykernel)",
   "language": "python",
   "name": "python3"
  },
  "language_info": {
   "codemirror_mode": {
    "name": "ipython",
    "version": 3
   },
   "file_extension": ".py",
   "mimetype": "text/x-python",
   "name": "python",
   "nbconvert_exporter": "python",
   "pygments_lexer": "ipython3",
   "version": "3.9.7"
  }
 },
 "nbformat": 4,
 "nbformat_minor": 5
}
